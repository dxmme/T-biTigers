{
 "cells": [
  {
   "cell_type": "code",
   "execution_count": 1,
   "metadata": {},
   "outputs": [],
   "source": [
    "from pathlib import Path\n",
    "import numpy as np\n",
    "from scipy.stats import ttest_ind\n",
    "import pandas as pd \n",
    "import matplotlib.pyplot as plt\n",
    "import seaborn as sns"
   ]
  },
  {
   "cell_type": "code",
   "execution_count": 2,
   "metadata": {},
   "outputs": [],
   "source": [
    "# load data with relative path\n",
    "script_dir = Path.cwd()\n",
    "data_file = script_dir.parent / \"data/processed_data_tigers.csv\"\n",
    "tigers_data = pd.read_csv(data_file)\n",
    "\n",
    "data_file = script_dir.parent / \"data/processed_data_heidelberg.csv\"\n",
    "heidelberg_data = pd.read_csv(data_file)\n",
    "\n",
    "\n",
    "# exlude all columns that are not numerical\n",
    "tigers_data = tigers_data.select_dtypes(include=[np.number])\n",
    "heidelberg_data = heidelberg_data.select_dtypes(include=[np.number])"
   ]
  },
  {
   "cell_type": "code",
   "execution_count": 18,
   "metadata": {},
   "outputs": [
    {
     "name": "stdout",
     "output_type": "stream",
     "text": [
      "H0: The performance of the two top performer (Jackson and Jaworski) is the same in games their teams have won\n",
      "T-test for points: T-statistic: -0.3835158682973332, P-value: 0.7128527140469287\n",
      "T-test for assists: T-statistic: -1.252748980616332, P-value: 0.24516896257799609\n",
      "T-test for minutes_played: T-statistic: -2.924620954468904, P-value: 0.030627299871608046\n",
      "Only the test of minutes_played has a p-value smaller than 0.05, meaning only the minutes played are significantly different between the two top performers in games their teams have won.\n",
      "But in general the performance of the two top performers is not significantly different in games their teams have won.\n"
     ]
    }
   ],
   "source": [
    "print(\"H0: The performance of the two top performer (Jackson and Jaworski) is the same in games their teams have won and where they have played\")\n",
    "\n",
    "tigers_features = [\"jackson_points\", \"jackson_assists\", \"jackson_minutes_played\"]\n",
    "heidelberg_features = [\"jaworski_points\", \"jaworski_assists\", \"jaworski_minutes_played\"]\n",
    "\n",
    "for i in range(0, 3):\n",
    "    jackson_performance = tigers_data[(tigers_data[\"tigers_win\"] == 1) & (tigers_data[\"jackson_minutes_played\"] > 0)][tigers_features[i]]\n",
    "    jaworski_performance = heidelberg_data[(heidelberg_data[\"heidelberg_win\"] == 1) & (heidelberg_data[\"jaworski_minutes_played\"] > 0)][heidelberg_features[i]]\n",
    "    \n",
    "    t_stat, p_value = ttest_ind(jackson_performance, jaworski_performance, equal_var=False) \n",
    "\n",
    "    print(f\"T-test for {tigers_features[i].split('_', 1)[1]}: T-statistic: {t_stat}, P-value: {p_value}\")\n",
    "\n",
    "print('''Only the test of minutes_played has a p-value smaller than 0.05, meaning only the minutes played are significantly different between the two top performers in games their teams have won.\n",
    "But in general the performance of the two top performers is not significantly different in games their teams have won.''')\n"
   ]
  },
  {
   "cell_type": "code",
   "execution_count": 23,
   "metadata": {},
   "outputs": [
    {
     "name": "stdout",
     "output_type": "stream",
     "text": [
      "H0: The 3_pointer_percentage of both teams is the same\n",
      "T-statistic: 1.431255042451343, P-value: 0.1571209775673478\n",
      "Since the p value is larger than 0.05, we cannot reject the null hypothesis, meaining we could not show that there is a difference in the 3_pointer_percentage between the two teams.\n"
     ]
    }
   ],
   "source": [
    "print (\"H0: The 3_pointer_percentage of both teams is the same\")\n",
    "\n",
    "tigers_3_pointer_percentage = tigers_data[\"3_pointer_percentage\"]\n",
    "heidelberg_3_pointer_percentage = heidelberg_data[\"3_pointer_percentage\"]\n",
    "\n",
    "t_stat, p_value = ttest_ind(tigers_3_pointer_percentage, heidelberg_3_pointer_percentage, equal_var=False) \n",
    "\n",
    "print(f\"T-statistic: {t_stat}, P-value: {p_value}\")\n",
    "\n",
    "print('''Since the p value is larger than 0.05, we cannot reject the null hypothesis, meaining we could not show that there is a difference in the 3_pointer_percentage between the two teams.''')"
   ]
  }
 ],
 "metadata": {
  "kernelspec": {
   "display_name": "Python 3",
   "language": "python",
   "name": "python3"
  },
  "language_info": {
   "codemirror_mode": {
    "name": "ipython",
    "version": 3
   },
   "file_extension": ".py",
   "mimetype": "text/x-python",
   "name": "python",
   "nbconvert_exporter": "python",
   "pygments_lexer": "ipython3",
   "version": "3.10.11"
  }
 },
 "nbformat": 4,
 "nbformat_minor": 2
}
