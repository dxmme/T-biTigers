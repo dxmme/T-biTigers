{
 "cells": [
  {
   "cell_type": "code",
   "execution_count": 3,
   "metadata": {},
   "outputs": [],
   "source": [
    "import pandas as pd\n",
    "from scipy.stats import ks_2samp\n",
    "from pathlib import Path\n",
    "import numpy as np"
   ]
  },
  {
   "cell_type": "code",
   "execution_count": 2,
   "metadata": {},
   "outputs": [],
   "source": [
    "# load data with relative path\n",
    "script_dir = Path.cwd()\n",
    "data_file = script_dir.parent / \"data/processed_data_tigers.csv\"\n",
    "tigers_data = pd.read_csv(data_file)\n",
    "\n",
    "data_file = script_dir.parent / \"data/processed_data_heidelberg.csv\"\n",
    "heidelberg_data = pd.read_csv(data_file)\n",
    "\n",
    "\n",
    "# exlude all columns that are not numerical\n",
    "tigers_data = tigers_data.select_dtypes(include=[np.number])\n",
    "heidelberg_data = heidelberg_data.select_dtypes(include=[np.number])"
   ]
  },
  {
   "cell_type": "code",
   "execution_count": 4,
   "metadata": {},
   "outputs": [
    {
     "name": "stdout",
     "output_type": "stream",
     "text": [
      "Kolmogorov-Smirnov-statistic: 0.5, P-value: 0.27352647352647347\n",
      "The distributions are not significantly different (p >= 0.05).\n"
     ]
    }
   ],
   "source": [
    "# Comparison of the distributions of the final points given win\n",
    "\n",
    "tigers_points = tigers_data.loc[tigers_data[\"tigers_win\"] == 1, \"tigers_points\"]\n",
    "heidelberg_points = heidelberg_data.loc[heidelberg_data[\"heidelberg_win\"] == 1, \"heidelberg_points\"]\n",
    "\n",
    "k_s_statistic, p_value = ks_2samp(tigers_points, heidelberg_points)\n",
    "\n",
    "print(f\"Kolmogorov-Smirnov-statistic: {k_s_statistic}, P-value: {p_value}\")\n",
    "\n",
    "# Interpretation\n",
    "if p_value < 0.05:\n",
    "    print(\"The distributions are significantly different (p < 0.05).\")\n",
    "else:\n",
    "    print(\"The distributions are not significantly different (p >= 0.05).\")\n"
   ]
  },
  {
   "cell_type": "code",
   "execution_count": 5,
   "metadata": {},
   "outputs": [
    {
     "name": "stdout",
     "output_type": "stream",
     "text": [
      "Kolmogorov-Smirnov-statistic: 0.3333333333333333, P-value: 0.7794205794205795\n",
      "The distributions are not significantly different (p >= 0.05).\n"
     ]
    }
   ],
   "source": [
    "# Comparison of the distributions of the points in the first quarter given win\n",
    "\n",
    "tigers_points = tigers_data.loc[tigers_data[\"tigers_win\"] == 1, \"tigers_points_1st_quarter\"]\n",
    "heidelberg_points = heidelberg_data.loc[heidelberg_data[\"heidelberg_win\"] == 1, \"heidelberg_points_1st_quarter\"]\n",
    "\n",
    "k_s_statistic, p_value = ks_2samp(tigers_points, heidelberg_points)\n",
    "\n",
    "print(f\"Kolmogorov-Smirnov-statistic: {k_s_statistic}, P-value: {p_value}\")\n",
    "\n",
    "# Interpretation\n",
    "if p_value < 0.05:\n",
    "    print(\"The distributions are significantly different (p < 0.05).\")\n",
    "else:\n",
    "    print(\"The distributions are not significantly different (p >= 0.05).\")\n"
   ]
  },
  {
   "cell_type": "code",
   "execution_count": 6,
   "metadata": {},
   "outputs": [
    {
     "name": "stdout",
     "output_type": "stream",
     "text": [
      "Kolmogorov-Smirnov-statistic: 0.16666666666666666, P-value: 0.9998001998001997\n",
      "The distributions are not significantly different (p >= 0.05).\n"
     ]
    }
   ],
   "source": [
    "# Comparison of the distributions of the points in the second quarter given win\n",
    "\n",
    "tigers_points = tigers_data.loc[tigers_data[\"tigers_win\"] == 1, \"tigers_points_2nd_quarter\"]\n",
    "heidelberg_points = heidelberg_data.loc[heidelberg_data[\"heidelberg_win\"] == 1, \"heidelberg_points_2nd_quarter\"]\n",
    "\n",
    "k_s_statistic, p_value = ks_2samp(tigers_points, heidelberg_points)\n",
    "\n",
    "print(f\"Kolmogorov-Smirnov-statistic: {k_s_statistic}, P-value: {p_value}\")\n",
    "\n",
    "# Interpretation\n",
    "if p_value < 0.05:\n",
    "    print(\"The distributions are significantly different (p < 0.05).\")\n",
    "else:\n",
    "    print(\"The distributions are not significantly different (p >= 0.05).\")\n"
   ]
  },
  {
   "cell_type": "code",
   "execution_count": 7,
   "metadata": {},
   "outputs": [
    {
     "name": "stdout",
     "output_type": "stream",
     "text": [
      "Kolmogorov-Smirnov-statistic: 0.3333333333333333, P-value: 0.7794205794205795\n",
      "The distributions are not significantly different (p >= 0.05).\n"
     ]
    }
   ],
   "source": [
    "# Comparison of the distributions of the points in the third quarter given win\n",
    "\n",
    "tigers_points = tigers_data.loc[tigers_data[\"tigers_win\"] == 1, \"tigers_points_3rd_quarter\"]\n",
    "heidelberg_points = heidelberg_data.loc[heidelberg_data[\"heidelberg_win\"] == 1, \"heidelberg_points_3rd_quarter\"]\n",
    "\n",
    "k_s_statistic, p_value = ks_2samp(tigers_points, heidelberg_points)\n",
    "\n",
    "print(f\"Kolmogorov-Smirnov-statistic: {k_s_statistic}, P-value: {p_value}\")\n",
    "\n",
    "# Interpretation\n",
    "if p_value < 0.05:\n",
    "    print(\"The distributions are significantly different (p < 0.05).\")\n",
    "else:\n",
    "    print(\"The distributions are not significantly different (p >= 0.05).\")\n"
   ]
  },
  {
   "cell_type": "code",
   "execution_count": 8,
   "metadata": {},
   "outputs": [
    {
     "name": "stdout",
     "output_type": "stream",
     "text": [
      "Kolmogorov-Smirnov-statistic: 0.2777777777777778, P-value: 0.8977022977022977\n",
      "The distributions are not significantly different (p >= 0.05).\n"
     ]
    }
   ],
   "source": [
    "# Comparison of the distributions of the points in the forth quarter given win\n",
    "\n",
    "tigers_points = tigers_data.loc[tigers_data[\"tigers_win\"] == 1, \"tigers_points_4th_quarter\"]\n",
    "heidelberg_points = heidelberg_data.loc[heidelberg_data[\"heidelberg_win\"] == 1, \"heidelberg_points_4th_quarter\"]\n",
    "\n",
    "k_s_statistic, p_value = ks_2samp(tigers_points, heidelberg_points)\n",
    "\n",
    "print(f\"Kolmogorov-Smirnov-statistic: {k_s_statistic}, P-value: {p_value}\")\n",
    "\n",
    "# Interpretation\n",
    "if p_value < 0.05:\n",
    "    print(\"The distributions are significantly different (p < 0.05).\")\n",
    "else:\n",
    "    print(\"The distributions are not significantly different (p >= 0.05).\")\n"
   ]
  },
  {
   "cell_type": "code",
   "execution_count": 9,
   "metadata": {},
   "outputs": [
    {
     "name": "stdout",
     "output_type": "stream",
     "text": [
      "Kolmogorov-Smirnov-statistic: 0.6666666666666666, P-value: 0.06113886113886114\n",
      "The distributions are not significantly different (p >= 0.05).\n"
     ]
    }
   ],
   "source": [
    "# Comparison of the distributions of the opponent points given win\n",
    "\n",
    "tigers_opponent_points = tigers_data.loc[tigers_data[\"tigers_win\"] == 1, \"opponent_points\"]\n",
    "heidelberg_opponent_points = heidelberg_data.loc[heidelberg_data[\"heidelberg_win\"] == 1, \"opponent_points\"]\n",
    "\n",
    "k_s_statistic, p_value = ks_2samp(tigers_opponent_points, heidelberg_opponent_points)\n",
    "\n",
    "print(f\"Kolmogorov-Smirnov-statistic: {k_s_statistic}, P-value: {p_value}\")\n",
    "\n",
    "# Interpretation\n",
    "if p_value < 0.05:\n",
    "    print(\"The distributions are significantly different (p < 0.05).\")\n",
    "else:\n",
    "    print(\"The distributions are not significantly different (p >= 0.05).\")\n"
   ]
  },
  {
   "cell_type": "code",
   "execution_count": 10,
   "metadata": {},
   "outputs": [
    {
     "name": "stdout",
     "output_type": "stream",
     "text": [
      "Kolmogorov-Smirnov-statistic: 0.3333333333333333, P-value: 0.7794205794205795\n",
      "The distributions are not significantly different (p >= 0.05).\n"
     ]
    }
   ],
   "source": [
    "# Comparison of the distributions of the opponent points in the first quarter given win\n",
    "\n",
    "tigers_opponent_points = tigers_data.loc[tigers_data[\"tigers_win\"] == 1, \"opponent_points_1st_quarter\"]\n",
    "heidelberg_opponent_points = heidelberg_data.loc[heidelberg_data[\"heidelberg_win\"] == 1, \"opponent_points_1st_quarter\"]\n",
    "\n",
    "k_s_statistic, p_value = ks_2samp(tigers_opponent_points, heidelberg_opponent_points)\n",
    "\n",
    "print(f\"Kolmogorov-Smirnov-statistic: {k_s_statistic}, P-value: {p_value}\")\n",
    "\n",
    "# Interpretation\n",
    "if p_value < 0.05:\n",
    "    print(\"The distributions are significantly different (p < 0.05).\")\n",
    "else:\n",
    "    print(\"The distributions are not significantly different (p >= 0.05).\")\n"
   ]
  },
  {
   "cell_type": "code",
   "execution_count": 11,
   "metadata": {},
   "outputs": [
    {
     "name": "stdout",
     "output_type": "stream",
     "text": [
      "Kolmogorov-Smirnov-statistic: 0.5, P-value: 0.27352647352647347\n",
      "The distributions are not significantly different (p >= 0.05).\n"
     ]
    }
   ],
   "source": [
    "# Comparison of the distributions of the opponent points in the second quarter given win\n",
    "\n",
    "tigers_opponent_points = tigers_data.loc[tigers_data[\"tigers_win\"] == 1, \"opponent_points_2nd_quarter\"]\n",
    "heidelberg_opponent_points = heidelberg_data.loc[heidelberg_data[\"heidelberg_win\"] == 1, \"opponent_points_2nd_quarter\"]\n",
    "\n",
    "k_s_statistic, p_value = ks_2samp(tigers_opponent_points, heidelberg_opponent_points)\n",
    "\n",
    "print(f\"Kolmogorov-Smirnov-statistic: {k_s_statistic}, P-value: {p_value}\")\n",
    "\n",
    "# Interpretation\n",
    "if p_value < 0.05:\n",
    "    print(\"The distributions are significantly different (p < 0.05).\")\n",
    "else:\n",
    "    print(\"The distributions are not significantly different (p >= 0.05).\")\n"
   ]
  },
  {
   "cell_type": "code",
   "execution_count": 12,
   "metadata": {},
   "outputs": [
    {
     "name": "stdout",
     "output_type": "stream",
     "text": [
      "Kolmogorov-Smirnov-statistic: 0.2777777777777778, P-value: 0.8977022977022977\n",
      "The distributions are not significantly different (p >= 0.05).\n"
     ]
    }
   ],
   "source": [
    "# Comparison of the distributions of the opponent points in the third quarter given win\n",
    "\n",
    "tigers_opponent_points = tigers_data.loc[tigers_data[\"tigers_win\"] == 1, \"opponent_points_3rd_quarter\"]\n",
    "heidelberg_opponent_points = heidelberg_data.loc[heidelberg_data[\"heidelberg_win\"] == 1, \"opponent_points_3rd_quarter\"]\n",
    "\n",
    "k_s_statistic, p_value = ks_2samp(tigers_opponent_points, heidelberg_opponent_points)\n",
    "\n",
    "print(f\"Kolmogorov-Smirnov-statistic: {k_s_statistic}, P-value: {p_value}\")\n",
    "\n",
    "# Interpretation\n",
    "if p_value < 0.05:\n",
    "    print(\"The distributions are significantly different (p < 0.05).\")\n",
    "else:\n",
    "    print(\"The distributions are not significantly different (p >= 0.05).\")\n"
   ]
  },
  {
   "cell_type": "code",
   "execution_count": 13,
   "metadata": {},
   "outputs": [
    {
     "name": "stdout",
     "output_type": "stream",
     "text": [
      "Kolmogorov-Smirnov-statistic: 0.2222222222222222, P-value: 0.987212787212787\n",
      "The distributions are not significantly different (p >= 0.05).\n"
     ]
    }
   ],
   "source": [
    "# Comparison of the distributions of the opponent points in the forth quarter given win\n",
    "\n",
    "tigers_opponent_points = tigers_data.loc[tigers_data[\"tigers_win\"] == 1, \"opponent_points_4th_quarter\"]\n",
    "heidelberg_opponent_points = heidelberg_data.loc[heidelberg_data[\"heidelberg_win\"] == 1, \"opponent_points_4th_quarter\"]\n",
    "\n",
    "k_s_statistic, p_value = ks_2samp(tigers_opponent_points, heidelberg_opponent_points)\n",
    "\n",
    "print(f\"Kolmogorov-Smirnov-statistic: {k_s_statistic}, P-value: {p_value}\")\n",
    "\n",
    "# Interpretation\n",
    "if p_value < 0.05:\n",
    "    print(\"The distributions are significantly different (p < 0.05).\")\n",
    "else:\n",
    "    print(\"The distributions are not significantly different (p >= 0.05).\")\n"
   ]
  },
  {
   "cell_type": "code",
   "execution_count": 14,
   "metadata": {},
   "outputs": [
    {
     "name": "stdout",
     "output_type": "stream",
     "text": [
      "Kolmogorov-Smirnov-statistic: 0.6666666666666666, P-value: 0.06113886113886114\n",
      "The distributions are not significantly different (p >= 0.05).\n"
     ]
    }
   ],
   "source": [
    "# Comparison of the distributions of the ratio between the own and the opponent points given win\n",
    "\n",
    "tigers_points_ratio = tigers_data.loc[tigers_data[\"tigers_win\"] == 1, \"tigers_points\"] / tigers_data.loc[tigers_data[\"tigers_win\"] == 1, \"opponent_points\"]\n",
    "heidelberg_points_ratio = heidelberg_data.loc[heidelberg_data[\"heidelberg_win\"] == 1, \"heidelberg_points\"] / heidelberg_data.loc[heidelberg_data[\"heidelberg_win\"] == 1, \"opponent_points\"]\n",
    "\n",
    "k_s_statistic, p_value = ks_2samp(tigers_points_ratio, heidelberg_points_ratio)\n",
    "\n",
    "print(f\"Kolmogorov-Smirnov-statistic: {k_s_statistic}, P-value: {p_value}\")\n",
    "\n",
    "# Interpretation\n",
    "if p_value < 0.05:\n",
    "    print(\"The distributions are significantly different (p < 0.05).\")\n",
    "else:\n",
    "    print(\"The distributions are not significantly different (p >= 0.05).\")\n"
   ]
  },
  {
   "cell_type": "code",
   "execution_count": 15,
   "metadata": {},
   "outputs": [
    {
     "name": "stdout",
     "output_type": "stream",
     "text": [
      "Kolmogorov-Smirnov-statistic: 0.4444444444444444, P-value: 0.40839160839160843\n",
      "The distributions are not significantly different (p >= 0.05).\n"
     ]
    }
   ],
   "source": [
    "# Comparison of the distributions of the ratio between the own and the opponent points in the first quarter given win\n",
    "\n",
    "tigers_points_ratio = tigers_data.loc[tigers_data[\"tigers_win\"] == 1, \"tigers_points_1st_quarter\"] / tigers_data.loc[tigers_data[\"tigers_win\"] == 1, \"opponent_points_1st_quarter\"]\n",
    "heidelberg_points_ratio = heidelberg_data.loc[heidelberg_data[\"heidelberg_win\"] == 1, \"heidelberg_points_1st_quarter\"] / heidelberg_data.loc[heidelberg_data[\"heidelberg_win\"] == 1, \"opponent_points_1st_quarter\"]\n",
    "\n",
    "k_s_statistic, p_value = ks_2samp(tigers_points_ratio, heidelberg_points_ratio)\n",
    "\n",
    "print(f\"Kolmogorov-Smirnov-statistic: {k_s_statistic}, P-value: {p_value}\")\n",
    "\n",
    "# Interpretation\n",
    "if p_value < 0.05:\n",
    "    print(\"The distributions are significantly different (p < 0.05).\")\n",
    "else:\n",
    "    print(\"The distributions are not significantly different (p >= 0.05).\")\n"
   ]
  },
  {
   "cell_type": "code",
   "execution_count": 16,
   "metadata": {},
   "outputs": [
    {
     "name": "stdout",
     "output_type": "stream",
     "text": [
      "Kolmogorov-Smirnov-statistic: 0.3888888888888889, P-value: 0.5628371628371629\n",
      "The distributions are not significantly different (p >= 0.05).\n"
     ]
    }
   ],
   "source": [
    "# Comparison of the distributions of the ratio between the own and the opponent points in the second quarter given win\n",
    "\n",
    "tigers_points_ratio = tigers_data.loc[tigers_data[\"tigers_win\"] == 1, \"tigers_points_2nd_quarter\"] / tigers_data.loc[tigers_data[\"tigers_win\"] == 1, \"opponent_points_2nd_quarter\"]\n",
    "heidelberg_points_ratio = heidelberg_data.loc[heidelberg_data[\"heidelberg_win\"] == 1, \"heidelberg_points_2nd_quarter\"] / heidelberg_data.loc[heidelberg_data[\"heidelberg_win\"] == 1, \"opponent_points_2nd_quarter\"]\n",
    "\n",
    "k_s_statistic, p_value = ks_2samp(tigers_points_ratio, heidelberg_points_ratio)\n",
    "\n",
    "print(f\"Kolmogorov-Smirnov-statistic: {k_s_statistic}, P-value: {p_value}\")\n",
    "\n",
    "# Interpretation\n",
    "if p_value < 0.05:\n",
    "    print(\"The distributions are significantly different (p < 0.05).\")\n",
    "else:\n",
    "    print(\"The distributions are not significantly different (p >= 0.05).\")\n"
   ]
  },
  {
   "cell_type": "code",
   "execution_count": 17,
   "metadata": {},
   "outputs": [
    {
     "name": "stdout",
     "output_type": "stream",
     "text": [
      "Kolmogorov-Smirnov-statistic: 0.5, P-value: 0.27352647352647347\n",
      "The distributions are not significantly different (p >= 0.05).\n"
     ]
    }
   ],
   "source": [
    "# Comparison of the distributions of the ratio between the own and the opponent points in the third quarter given win\n",
    "\n",
    "tigers_points_ratio = tigers_data.loc[tigers_data[\"tigers_win\"] == 1, \"tigers_points_3rd_quarter\"] / tigers_data.loc[tigers_data[\"tigers_win\"] == 1, \"opponent_points_3rd_quarter\"]\n",
    "heidelberg_points_ratio = heidelberg_data.loc[heidelberg_data[\"heidelberg_win\"] == 1, \"heidelberg_points_3rd_quarter\"] / heidelberg_data.loc[heidelberg_data[\"heidelberg_win\"] == 1, \"opponent_points_3rd_quarter\"]\n",
    "\n",
    "k_s_statistic, p_value = ks_2samp(tigers_points_ratio, heidelberg_points_ratio)\n",
    "\n",
    "print(f\"Kolmogorov-Smirnov-statistic: {k_s_statistic}, P-value: {p_value}\")\n",
    "\n",
    "# Interpretation\n",
    "if p_value < 0.05:\n",
    "    print(\"The distributions are significantly different (p < 0.05).\")\n",
    "else:\n",
    "    print(\"The distributions are not significantly different (p >= 0.05).\")\n"
   ]
  },
  {
   "cell_type": "code",
   "execution_count": 18,
   "metadata": {},
   "outputs": [
    {
     "name": "stdout",
     "output_type": "stream",
     "text": [
      "Kolmogorov-Smirnov-statistic: 0.2222222222222222, P-value: 0.987212787212787\n",
      "The distributions are not significantly different (p >= 0.05).\n"
     ]
    }
   ],
   "source": [
    "# Comparison of the distributions of the ratio between the own and the opponent points in the forth quarter given win\n",
    "\n",
    "tigers_points_ratio = tigers_data.loc[tigers_data[\"tigers_win\"] == 1, \"tigers_points_4th_quarter\"] / tigers_data.loc[tigers_data[\"tigers_win\"] == 1, \"opponent_points_4th_quarter\"]\n",
    "heidelberg_points_ratio = heidelberg_data.loc[heidelberg_data[\"heidelberg_win\"] == 1, \"heidelberg_points_4th_quarter\"] / heidelberg_data.loc[heidelberg_data[\"heidelberg_win\"] == 1, \"opponent_points_4th_quarter\"]\n",
    "\n",
    "k_s_statistic, p_value = ks_2samp(tigers_points_ratio, heidelberg_points_ratio)\n",
    "\n",
    "print(f\"Kolmogorov-Smirnov-statistic: {k_s_statistic}, P-value: {p_value}\")\n",
    "\n",
    "# Interpretation\n",
    "if p_value < 0.05:\n",
    "    print(\"The distributions are significantly different (p < 0.05).\")\n",
    "else:\n",
    "    print(\"The distributions are not significantly different (p >= 0.05).\")\n"
   ]
  },
  {
   "cell_type": "code",
   "execution_count": 19,
   "metadata": {},
   "outputs": [
    {
     "name": "stdout",
     "output_type": "stream",
     "text": [
      "Kolmogorov-Smirnov-statistic: 0.3888888888888889, P-value: 0.5628371628371629\n",
      "The distributions are not significantly different (p >= 0.05).\n"
     ]
    }
   ],
   "source": [
    "# Comparison of the distributions of the field_goals_attempted given win\n",
    "\n",
    "tigers_points = tigers_data.loc[tigers_data[\"tigers_win\"] == 1, \"field_goals_attempted\"]\n",
    "heidelberg_points = heidelberg_data.loc[heidelberg_data[\"heidelberg_win\"] == 1, \"field_goals_attempted\"]\n",
    "\n",
    "k_s_statistic, p_value = ks_2samp(tigers_points, heidelberg_points)\n",
    "\n",
    "print(f\"Kolmogorov-Smirnov-statistic: {k_s_statistic}, P-value: {p_value}\")\n",
    "\n",
    "# Interpretation\n",
    "if p_value < 0.05:\n",
    "    print(\"The distributions are significantly different (p < 0.05).\")\n",
    "else:\n",
    "    print(\"The distributions are not significantly different (p >= 0.05).\")\n"
   ]
  },
  {
   "cell_type": "code",
   "execution_count": 20,
   "metadata": {},
   "outputs": [
    {
     "name": "stdout",
     "output_type": "stream",
     "text": [
      "Kolmogorov-Smirnov-statistic: 0.3888888888888889, P-value: 0.5628371628371629\n",
      "The distributions are not significantly different (p >= 0.05).\n"
     ]
    }
   ],
   "source": [
    "# Comparison of the distributions of the field_goals_made given win\n",
    "\n",
    "tigers_points = tigers_data.loc[tigers_data[\"tigers_win\"] == 1, \"field_goals_made\"]\n",
    "heidelberg_points = heidelberg_data.loc[heidelberg_data[\"heidelberg_win\"] == 1, \"field_goals_made\"]\n",
    "\n",
    "k_s_statistic, p_value = ks_2samp(tigers_points, heidelberg_points)\n",
    "\n",
    "print(f\"Kolmogorov-Smirnov-statistic: {k_s_statistic}, P-value: {p_value}\")\n",
    "\n",
    "# Interpretation\n",
    "if p_value < 0.05:\n",
    "    print(\"The distributions are significantly different (p < 0.05).\")\n",
    "else:\n",
    "    print(\"The distributions are not significantly different (p >= 0.05).\")\n"
   ]
  },
  {
   "cell_type": "code",
   "execution_count": 21,
   "metadata": {},
   "outputs": [
    {
     "name": "stdout",
     "output_type": "stream",
     "text": [
      "Kolmogorov-Smirnov-statistic: 0.3333333333333333, P-value: 0.7794205794205795\n",
      "The distributions are not significantly different (p >= 0.05).\n"
     ]
    }
   ],
   "source": [
    "# Comparison of the distributions of the 2_pointer_percentage given win\n",
    "\n",
    "tigers_points = tigers_data.loc[tigers_data[\"tigers_win\"] == 1, \"2_pointer_percentage\"]\n",
    "heidelberg_points = heidelberg_data.loc[heidelberg_data[\"heidelberg_win\"] == 1, \"2_pointer_percentage\"]\n",
    "\n",
    "k_s_statistic, p_value = ks_2samp(tigers_points, heidelberg_points)\n",
    "\n",
    "print(f\"Kolmogorov-Smirnov-statistic: {k_s_statistic}, P-value: {p_value}\")\n",
    "\n",
    "# Interpretation\n",
    "if p_value < 0.05:\n",
    "    print(\"The distributions are significantly different (p < 0.05).\")\n",
    "else:\n",
    "    print(\"The distributions are not significantly different (p >= 0.05).\")\n"
   ]
  },
  {
   "cell_type": "code",
   "execution_count": 22,
   "metadata": {},
   "outputs": [
    {
     "name": "stdout",
     "output_type": "stream",
     "text": [
      "Kolmogorov-Smirnov-statistic: 0.3300653594771242, P-value: 0.33430003913927847\n",
      "The distributions are not significantly different (p >= 0.05).\n"
     ]
    }
   ],
   "source": [
    "# Comparison of the distributions of the 3_pointer_percentage given win\n",
    "\n",
    "tigers_points = tigers_data[\"3_pointer_percentage\"]\n",
    "heidelberg_points = heidelberg_data.loc[heidelberg_data[\"heidelberg_win\"] == 1, \"3_pointer_percentage\"]\n",
    "\n",
    "k_s_statistic, p_value = ks_2samp(tigers_points, heidelberg_points)\n",
    "\n",
    "print(f\"Kolmogorov-Smirnov-statistic: {k_s_statistic}, P-value: {p_value}\")\n",
    "\n",
    "# Interpretation\n",
    "if p_value < 0.05:\n",
    "    print(\"The distributions are significantly different (p < 0.05).\")\n",
    "else:\n",
    "    print(\"The distributions are not significantly different (p >= 0.05).\")\n"
   ]
  },
  {
   "cell_type": "code",
   "execution_count": 23,
   "metadata": {},
   "outputs": [
    {
     "name": "stdout",
     "output_type": "stream",
     "text": [
      "Kolmogorov-Smirnov-statistic: 0.20588235294117646, P-value: 0.862760451469888\n",
      "The distributions are not significantly different (p >= 0.05).\n"
     ]
    }
   ],
   "source": [
    "# Comparison of the distributions of the free_throw_percentage given win\n",
    "\n",
    "tigers_points = tigers_data[\"free_throw_percentage\"]\n",
    "heidelberg_points = heidelberg_data.loc[heidelberg_data[\"heidelberg_win\"] == 1, \"free_throw_percentage\"]\n",
    "\n",
    "k_s_statistic, p_value = ks_2samp(tigers_points, heidelberg_points)\n",
    "\n",
    "print(f\"Kolmogorov-Smirnov-statistic: {k_s_statistic}, P-value: {p_value}\")\n",
    "\n",
    "# Interpretation\n",
    "if p_value < 0.05:\n",
    "    print(\"The distributions are significantly different (p < 0.05).\")\n",
    "else:\n",
    "    print(\"The distributions are not significantly different (p >= 0.05).\")\n"
   ]
  },
  {
   "cell_type": "code",
   "execution_count": 24,
   "metadata": {},
   "outputs": [
    {
     "name": "stdout",
     "output_type": "stream",
     "text": [
      "Kolmogorov-Smirnov-statistic: 0.3888888888888889, P-value: 0.5628371628371629\n",
      "The distributions are not significantly different (p >= 0.05).\n"
     ]
    }
   ],
   "source": [
    "# Comparison of the distributions of the total_amount_fans given win\n",
    "\n",
    "tigers_game_statistics = tigers_data.loc[tigers_data[\"tigers_win\"] == 1, \"total_amount_fans\"]\n",
    "heidelberg_game_statistics = heidelberg_data.loc[heidelberg_data[\"heidelberg_win\"] == 1, \"total_amount_fans\"]\n",
    "\n",
    "k_s_statistic, p_value = ks_2samp(tigers_game_statistics, heidelberg_game_statistics)\n",
    "\n",
    "print(f\"Kolmogorov-Smirnov-statistic: {k_s_statistic}, P-value: {p_value}\")\n",
    "\n",
    "# Interpretation\n",
    "if p_value < 0.05:\n",
    "    print(\"The distributions are significantly different (p < 0.05).\")\n",
    "else:\n",
    "    print(\"The distributions are not significantly different (p >= 0.05).\")\n"
   ]
  },
  {
   "cell_type": "code",
   "execution_count": 25,
   "metadata": {},
   "outputs": [
    {
     "name": "stdout",
     "output_type": "stream",
     "text": [
      "Kolmogorov-Smirnov-statistic: 0.2777777777777778, P-value: 0.8977022977022977\n",
      "The distributions are not significantly different (p >= 0.05).\n"
     ]
    }
   ],
   "source": [
    "# Comparison of the distributions of the arena_occupancy given win\n",
    "\n",
    "tigers_game_statistics = tigers_data.loc[tigers_data[\"tigers_win\"] == 1, \"arena_occupancy\"]\n",
    "heidelberg_game_statistics = heidelberg_data.loc[heidelberg_data[\"heidelberg_win\"] == 1, \"arena_occupancy\"]\n",
    "\n",
    "k_s_statistic, p_value = ks_2samp(tigers_game_statistics, heidelberg_game_statistics)\n",
    "\n",
    "print(f\"Kolmogorov-Smirnov-statistic: {k_s_statistic}, P-value: {p_value}\")\n",
    "\n",
    "# Interpretation\n",
    "if p_value < 0.05:\n",
    "    print(\"The distributions are significantly different (p < 0.05).\")\n",
    "else:\n",
    "    print(\"The distributions are not significantly different (p >= 0.05).\")\n"
   ]
  },
  {
   "cell_type": "code",
   "execution_count": 26,
   "metadata": {},
   "outputs": [
    {
     "name": "stdout",
     "output_type": "stream",
     "text": [
      "Kolmogorov-Smirnov-statistic: 0.5, P-value: 0.27352647352647347\n",
      "The distributions are not significantly different (p >= 0.05).\n"
     ]
    }
   ],
   "source": [
    "# Comparison of the distributions of the rebounds given win\n",
    "\n",
    "tigers_game_statistics = tigers_data.loc[tigers_data[\"tigers_win\"] == 1, \"rebounds\"]\n",
    "heidelberg_game_statistics = heidelberg_data.loc[heidelberg_data[\"heidelberg_win\"] == 1, \"rebounds\"]\n",
    "\n",
    "k_s_statistic, p_value = ks_2samp(tigers_game_statistics, heidelberg_game_statistics)\n",
    "\n",
    "print(f\"Kolmogorov-Smirnov-statistic: {k_s_statistic}, P-value: {p_value}\")\n",
    "\n",
    "# Interpretation\n",
    "if p_value < 0.05:\n",
    "    print(\"The distributions are significantly different (p < 0.05).\")\n",
    "else:\n",
    "    print(\"The distributions are not significantly different (p >= 0.05).\")\n"
   ]
  },
  {
   "cell_type": "code",
   "execution_count": 27,
   "metadata": {},
   "outputs": [
    {
     "name": "stdout",
     "output_type": "stream",
     "text": [
      "Kolmogorov-Smirnov-statistic: 0.4444444444444444, P-value: 0.40839160839160843\n",
      "The distributions are not significantly different (p >= 0.05).\n"
     ]
    }
   ],
   "source": [
    "# Comparison of the distributions of the assists given win\n",
    "\n",
    "tigers_game_statistics = tigers_data.loc[tigers_data[\"tigers_win\"] == 1, \"assists\"]\n",
    "heidelberg_game_statistics = heidelberg_data.loc[heidelberg_data[\"heidelberg_win\"] == 1, \"assists\"]\n",
    "\n",
    "k_s_statistic, p_value = ks_2samp(tigers_game_statistics, heidelberg_game_statistics)\n",
    "\n",
    "print(f\"Kolmogorov-Smirnov-statistic: {k_s_statistic}, P-value: {p_value}\")\n",
    "\n",
    "# Interpretation\n",
    "if p_value < 0.05:\n",
    "    print(\"The distributions are significantly different (p < 0.05).\")\n",
    "else:\n",
    "    print(\"The distributions are not significantly different (p >= 0.05).\")\n"
   ]
  },
  {
   "cell_type": "code",
   "execution_count": 28,
   "metadata": {},
   "outputs": [
    {
     "name": "stdout",
     "output_type": "stream",
     "text": [
      "Kolmogorov-Smirnov-statistic: 0.2777777777777778, P-value: 0.8977022977022977\n",
      "The distributions are not significantly different (p >= 0.05).\n"
     ]
    }
   ],
   "source": [
    "# Comparison of the distributions of the turnovers given win\n",
    "\n",
    "tigers_game_statistics = tigers_data.loc[tigers_data[\"tigers_win\"] == 1, \"turnovers\"]\n",
    "heidelberg_game_statistics = heidelberg_data.loc[heidelberg_data[\"heidelberg_win\"] == 1, \"turnovers\"]\n",
    "\n",
    "k_s_statistic, p_value = ks_2samp(tigers_game_statistics, heidelberg_game_statistics)\n",
    "\n",
    "print(f\"Kolmogorov-Smirnov-statistic: {k_s_statistic}, P-value: {p_value}\")\n",
    "\n",
    "# Interpretation\n",
    "if p_value < 0.05:\n",
    "    print(\"The distributions are significantly different (p < 0.05).\")\n",
    "else:\n",
    "    print(\"The distributions are not significantly different (p >= 0.05).\")\n"
   ]
  },
  {
   "cell_type": "code",
   "execution_count": 29,
   "metadata": {},
   "outputs": [
    {
     "name": "stdout",
     "output_type": "stream",
     "text": [
      "Kolmogorov-Smirnov-statistic: 0.7222222222222222, P-value: 0.027972027972027972\n",
      "The distributions are significantly different (p < 0.05).\n"
     ]
    }
   ],
   "source": [
    "# Comparison of the distributions of the steals given win\n",
    "\n",
    "tigers_game_statistics = tigers_data.loc[tigers_data[\"tigers_win\"] == 1, \"steals\"]\n",
    "heidelberg_game_statistics = heidelberg_data.loc[heidelberg_data[\"heidelberg_win\"] == 1, \"steals\"]\n",
    "\n",
    "k_s_statistic, p_value = ks_2samp(tigers_game_statistics, heidelberg_game_statistics)\n",
    "\n",
    "print(f\"Kolmogorov-Smirnov-statistic: {k_s_statistic}, P-value: {p_value}\")\n",
    "\n",
    "# Interpretation\n",
    "if p_value < 0.05:\n",
    "    print(\"The distributions are significantly different (p < 0.05).\")\n",
    "else:\n",
    "    print(\"The distributions are not significantly different (p >= 0.05).\")\n"
   ]
  },
  {
   "cell_type": "code",
   "execution_count": 30,
   "metadata": {},
   "outputs": [
    {
     "name": "stdout",
     "output_type": "stream",
     "text": [
      "Kolmogorov-Smirnov-statistic: 0.5555555555555556, P-value: 0.1758241758241758\n",
      "The distributions are not significantly different (p >= 0.05).\n"
     ]
    }
   ],
   "source": [
    "# Comparison of the distributions of the fouls given win\n",
    "\n",
    "tigers_game_statistics = tigers_data.loc[tigers_data[\"tigers_win\"] == 1, \"fouls\"]\n",
    "heidelberg_game_statistics = heidelberg_data.loc[heidelberg_data[\"heidelberg_win\"] == 1, \"fouls\"]\n",
    "\n",
    "k_s_statistic, p_value = ks_2samp(tigers_game_statistics, heidelberg_game_statistics)\n",
    "\n",
    "print(f\"Kolmogorov-Smirnov-statistic: {k_s_statistic}, P-value: {p_value}\")\n",
    "\n",
    "# Interpretation\n",
    "if p_value < 0.05:\n",
    "    print(\"The distributions are significantly different (p < 0.05).\")\n",
    "else:\n",
    "    print(\"The distributions are not significantly different (p >= 0.05).\")\n"
   ]
  },
  {
   "cell_type": "code",
   "execution_count": 31,
   "metadata": {},
   "outputs": [
    {
     "name": "stdout",
     "output_type": "stream",
     "text": [
      "Kolmogorov-Smirnov-statistic: 0.4444444444444444, P-value: 0.40839160839160843\n",
      "The distributions are not significantly different (p >= 0.05).\n"
     ]
    }
   ],
   "source": [
    "# Comparison of the distributions of the rest_days given win\n",
    "\n",
    "tigers_game_statistics = tigers_data.loc[tigers_data[\"tigers_win\"] == 1, \"rest_days\"]\n",
    "heidelberg_game_statistics = heidelberg_data.loc[heidelberg_data[\"heidelberg_win\"] == 1, \"rest_days\"]\n",
    "\n",
    "k_s_statistic, p_value = ks_2samp(tigers_game_statistics, heidelberg_game_statistics)\n",
    "\n",
    "print(f\"Kolmogorov-Smirnov-statistic: {k_s_statistic}, P-value: {p_value}\")\n",
    "\n",
    "# Interpretation\n",
    "if p_value < 0.05:\n",
    "    print(\"The distributions are significantly different (p < 0.05).\")\n",
    "else:\n",
    "    print(\"The distributions are not significantly different (p >= 0.05).\")\n"
   ]
  }
 ],
 "metadata": {
  "kernelspec": {
   "display_name": "base",
   "language": "python",
   "name": "python3"
  },
  "language_info": {
   "codemirror_mode": {
    "name": "ipython",
    "version": 3
   },
   "file_extension": ".py",
   "mimetype": "text/x-python",
   "name": "python",
   "nbconvert_exporter": "python",
   "pygments_lexer": "ipython3",
   "version": "3.12.4"
  }
 },
 "nbformat": 4,
 "nbformat_minor": 2
}
