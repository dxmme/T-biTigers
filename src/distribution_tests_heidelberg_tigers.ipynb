{
 "cells": [
  {
   "cell_type": "code",
   "execution_count": 2,
   "metadata": {},
   "outputs": [],
   "source": [
    "import pandas as pd\n",
    "from scipy.stats import ks_2samp\n",
    "from pathlib import Path\n",
    "import numpy as np\n",
    "import matplotlib.pyplot as plt"
   ]
  },
  {
   "cell_type": "code",
   "execution_count": 3,
   "metadata": {},
   "outputs": [],
   "source": [
    "# load data with relative path\n",
    "script_dir = Path.cwd()\n",
    "data_file = script_dir.parent / \"data/processed_data_tigers.csv\"\n",
    "tigers_data = pd.read_csv(data_file)\n",
    "\n",
    "data_file = script_dir.parent / \"data/processed_data_heidelberg.csv\"\n",
    "heidelberg_data = pd.read_csv(data_file)\n",
    "\n",
    "\n",
    "# exlude all columns that are not numerical\n",
    "tigers_data = tigers_data.select_dtypes(include=[np.number])\n",
    "heidelberg_data = heidelberg_data.select_dtypes(include=[np.number])"
   ]
  },
  {
   "cell_type": "code",
   "execution_count": 4,
   "metadata": {},
   "outputs": [
    {
     "name": "stdout",
     "output_type": "stream",
     "text": [
      "Kolmogorov-Smirnov-statistic: 0.14705882352941177, P-value: 0.863226759485624\n",
      "The distributions are not significantly different (p >= 0.05).\n"
     ]
    }
   ],
   "source": [
    "# Comparison of the distributions of the final points\n",
    "\n",
    "tigers_points = tigers_data[\"tigers_points\"]\n",
    "heidelberg_points = heidelberg_data[\"heidelberg_points\"]\n",
    "\n",
    "k_s_statistic, p_value = ks_2samp(tigers_points, heidelberg_points)\n",
    "\n",
    "print(f\"Kolmogorov-Smirnov-statistic: {k_s_statistic}, P-value: {p_value}\")\n",
    "\n",
    "# Interpretation\n",
    "if p_value < 0.05:\n",
    "    print(\"The distributions are significantly different (p < 0.05).\")\n",
    "else:\n",
    "    print(\"The distributions are not significantly different (p >= 0.05).\")\n"
   ]
  },
  {
   "cell_type": "code",
   "execution_count": 5,
   "metadata": {},
   "outputs": [
    {
     "name": "stdout",
     "output_type": "stream",
     "text": [
      "Kolmogorov-Smirnov-statistic: 0.17647058823529413, P-value: 0.6726844299259279\n",
      "The distributions are not significantly different (p >= 0.05).\n"
     ]
    }
   ],
   "source": [
    "# Comparison of the distributions of the points in the first quarter\n",
    "\n",
    "tigers_points = tigers_data[\"tigers_points_1st_quarter\"]\n",
    "heidelberg_points = heidelberg_data[\"heidelberg_points_1st_quarter\"]\n",
    "\n",
    "k_s_statistic, p_value = ks_2samp(tigers_points, heidelberg_points)\n",
    "\n",
    "print(f\"Kolmogorov-Smirnov-statistic: {k_s_statistic}, P-value: {p_value}\")\n",
    "\n",
    "# Interpretation\n",
    "if p_value < 0.05:\n",
    "    print(\"The distributions are significantly different (p < 0.05).\")\n",
    "else:\n",
    "    print(\"The distributions are not significantly different (p >= 0.05).\")\n"
   ]
  },
  {
   "cell_type": "code",
   "execution_count": 13,
   "metadata": {},
   "outputs": [
    {
     "name": "stdout",
     "output_type": "stream",
     "text": [
      "Kolmogorov-Smirnov-statistic: 0.08823529411764706, P-value: 0.9996092466549565\n",
      "The distributions are not significantly different (p >= 0.05).\n"
     ]
    }
   ],
   "source": [
    "# Comparison of the distributions of the points in the second quarter\n",
    "\n",
    "tigers_points = tigers_data[\"tigers_points_2nd_quarter\"]\n",
    "heidelberg_points = heidelberg_data[\"heidelberg_points_2nd_quarter\"]\n",
    "\n",
    "k_s_statistic, p_value = ks_2samp(tigers_points, heidelberg_points)\n",
    "\n",
    "print(f\"Kolmogorov-Smirnov-statistic: {k_s_statistic}, P-value: {p_value}\")\n",
    "\n",
    "# Interpretation\n",
    "if p_value < 0.05:\n",
    "    print(\"The distributions are significantly different (p < 0.05).\")\n",
    "else:\n",
    "    print(\"The distributions are not significantly different (p >= 0.05).\")\n"
   ]
  },
  {
   "cell_type": "code",
   "execution_count": 14,
   "metadata": {},
   "outputs": [
    {
     "name": "stdout",
     "output_type": "stream",
     "text": [
      "Kolmogorov-Smirnov-statistic: 0.14705882352941177, P-value: 0.863226759485624\n",
      "The distributions are not significantly different (p >= 0.05).\n"
     ]
    }
   ],
   "source": [
    "# Comparison of the distributions of the points in the third quarter\n",
    "\n",
    "tigers_points = tigers_data[\"tigers_points_3rd_quarter\"]\n",
    "heidelberg_points = heidelberg_data[\"heidelberg_points_3rd_quarter\"]\n",
    "\n",
    "k_s_statistic, p_value = ks_2samp(tigers_points, heidelberg_points)\n",
    "\n",
    "print(f\"Kolmogorov-Smirnov-statistic: {k_s_statistic}, P-value: {p_value}\")\n",
    "\n",
    "# Interpretation\n",
    "if p_value < 0.05:\n",
    "    print(\"The distributions are significantly different (p < 0.05).\")\n",
    "else:\n",
    "    print(\"The distributions are not significantly different (p >= 0.05).\")\n"
   ]
  },
  {
   "cell_type": "code",
   "execution_count": 15,
   "metadata": {},
   "outputs": [
    {
     "name": "stdout",
     "output_type": "stream",
     "text": [
      "Kolmogorov-Smirnov-statistic: 0.14705882352941177, P-value: 0.863226759485624\n",
      "The distributions are not significantly different (p >= 0.05).\n"
     ]
    }
   ],
   "source": [
    "# Comparison of the distributions of the points in the forth quarter\n",
    "\n",
    "tigers_points = tigers_data[\"tigers_points_4th_quarter\"]\n",
    "heidelberg_points = heidelberg_data[\"heidelberg_points_4th_quarter\"]\n",
    "\n",
    "k_s_statistic, p_value = ks_2samp(tigers_points, heidelberg_points)\n",
    "\n",
    "print(f\"Kolmogorov-Smirnov-statistic: {k_s_statistic}, P-value: {p_value}\")\n",
    "\n",
    "# Interpretation\n",
    "if p_value < 0.05:\n",
    "    print(\"The distributions are significantly different (p < 0.05).\")\n",
    "else:\n",
    "    print(\"The distributions are not significantly different (p >= 0.05).\")\n"
   ]
  },
  {
   "cell_type": "code",
   "execution_count": 6,
   "metadata": {},
   "outputs": [
    {
     "name": "stdout",
     "output_type": "stream",
     "text": [
      "Kolmogorov-Smirnov-statistic: 0.17647058823529413, P-value: 0.6726844299259279\n",
      "The distributions are not significantly different (p >= 0.05).\n"
     ]
    }
   ],
   "source": [
    "# Comparison of the distributions of the opponent points\n",
    "\n",
    "tigers_opponent_points = tigers_data[\"opponent_points\"]\n",
    "heidelberg_opponent_points = heidelberg_data[\"opponent_points\"]\n",
    "\n",
    "k_s_statistic, p_value = ks_2samp(tigers_opponent_points, heidelberg_opponent_points)\n",
    "\n",
    "print(f\"Kolmogorov-Smirnov-statistic: {k_s_statistic}, P-value: {p_value}\")\n",
    "\n",
    "# Interpretation\n",
    "if p_value < 0.05:\n",
    "    print(\"The distributions are significantly different (p < 0.05).\")\n",
    "else:\n",
    "    print(\"The distributions are not significantly different (p >= 0.05).\")\n"
   ]
  },
  {
   "cell_type": "code",
   "execution_count": 8,
   "metadata": {},
   "outputs": [
    {
     "name": "stdout",
     "output_type": "stream",
     "text": [
      "Kolmogorov-Smirnov-statistic: 0.17647058823529413, P-value: 0.6726844299259279\n",
      "The distributions are not significantly different (p >= 0.05).\n"
     ]
    }
   ],
   "source": [
    "# Comparison of the distributions of the opponent points in the first quarter\n",
    "\n",
    "tigers_opponent_points = tigers_data[\"opponent_points_1st_quarter\"]\n",
    "heidelberg_opponent_points = heidelberg_data[\"opponent_points_1st_quarter\"]\n",
    "\n",
    "k_s_statistic, p_value = ks_2samp(tigers_opponent_points, heidelberg_opponent_points)\n",
    "\n",
    "print(f\"Kolmogorov-Smirnov-statistic: {k_s_statistic}, P-value: {p_value}\")\n",
    "\n",
    "# Interpretation\n",
    "if p_value < 0.05:\n",
    "    print(\"The distributions are significantly different (p < 0.05).\")\n",
    "else:\n",
    "    print(\"The distributions are not significantly different (p >= 0.05).\")\n"
   ]
  },
  {
   "cell_type": "code",
   "execution_count": 9,
   "metadata": {},
   "outputs": [
    {
     "name": "stdout",
     "output_type": "stream",
     "text": [
      "Kolmogorov-Smirnov-statistic: 0.17647058823529413, P-value: 0.6726844299259279\n",
      "The distributions are not significantly different (p >= 0.05).\n"
     ]
    }
   ],
   "source": [
    "# Comparison of the distributions of the opponent points in the second quarter\n",
    "\n",
    "tigers_opponent_points = tigers_data[\"opponent_points_2nd_quarter\"]\n",
    "heidelberg_opponent_points = heidelberg_data[\"opponent_points_2nd_quarter\"]\n",
    "\n",
    "k_s_statistic, p_value = ks_2samp(tigers_opponent_points, heidelberg_opponent_points)\n",
    "\n",
    "print(f\"Kolmogorov-Smirnov-statistic: {k_s_statistic}, P-value: {p_value}\")\n",
    "\n",
    "# Interpretation\n",
    "if p_value < 0.05:\n",
    "    print(\"The distributions are significantly different (p < 0.05).\")\n",
    "else:\n",
    "    print(\"The distributions are not significantly different (p >= 0.05).\")\n"
   ]
  },
  {
   "cell_type": "code",
   "execution_count": 10,
   "metadata": {},
   "outputs": [
    {
     "name": "stdout",
     "output_type": "stream",
     "text": [
      "Kolmogorov-Smirnov-statistic: 0.17647058823529413, P-value: 0.6726844299259279\n",
      "The distributions are not significantly different (p >= 0.05).\n"
     ]
    }
   ],
   "source": [
    "# Comparison of the distributions of the opponent points in the third quarter\n",
    "\n",
    "tigers_opponent_points = tigers_data[\"opponent_points_3rd_quarter\"]\n",
    "heidelberg_opponent_points = heidelberg_data[\"opponent_points_3rd_quarter\"]\n",
    "\n",
    "k_s_statistic, p_value = ks_2samp(tigers_opponent_points, heidelberg_opponent_points)\n",
    "\n",
    "print(f\"Kolmogorov-Smirnov-statistic: {k_s_statistic}, P-value: {p_value}\")\n",
    "\n",
    "# Interpretation\n",
    "if p_value < 0.05:\n",
    "    print(\"The distributions are significantly different (p < 0.05).\")\n",
    "else:\n",
    "    print(\"The distributions are not significantly different (p >= 0.05).\")\n"
   ]
  },
  {
   "cell_type": "code",
   "execution_count": 11,
   "metadata": {},
   "outputs": [
    {
     "name": "stdout",
     "output_type": "stream",
     "text": [
      "Kolmogorov-Smirnov-statistic: 0.20588235294117646, P-value: 0.4728024347599935\n",
      "The distributions are not significantly different (p >= 0.05).\n"
     ]
    }
   ],
   "source": [
    "# Comparison of the distributions of the opponent points in the forth quarter\n",
    "\n",
    "tigers_opponent_points = tigers_data[\"opponent_points_4th_quarter\"]\n",
    "heidelberg_opponent_points = heidelberg_data[\"opponent_points_4th_quarter\"]\n",
    "\n",
    "k_s_statistic, p_value = ks_2samp(tigers_opponent_points, heidelberg_opponent_points)\n",
    "\n",
    "print(f\"Kolmogorov-Smirnov-statistic: {k_s_statistic}, P-value: {p_value}\")\n",
    "\n",
    "# Interpretation\n",
    "if p_value < 0.05:\n",
    "    print(\"The distributions are significantly different (p < 0.05).\")\n",
    "else:\n",
    "    print(\"The distributions are not significantly different (p >= 0.05).\")\n"
   ]
  },
  {
   "cell_type": "code",
   "execution_count": 16,
   "metadata": {},
   "outputs": [
    {
     "name": "stdout",
     "output_type": "stream",
     "text": [
      "Kolmogorov-Smirnov-statistic: 0.20588235294117646, P-value: 0.4728024347599935\n",
      "The distributions are not significantly different (p >= 0.05).\n"
     ]
    }
   ],
   "source": [
    "# Comparison of the distributions of the ratio between the own and the opponent points\n",
    "\n",
    "tigers_points_ratio = tigers_data[\"tigers_points\"] / tigers_data[\"opponent_points\"]\n",
    "heidelberg_points_ratio = heidelberg_data[\"heidelberg_points\"] / heidelberg_data[\"opponent_points\"]\n",
    "\n",
    "k_s_statistic, p_value = ks_2samp(tigers_points_ratio, heidelberg_points_ratio)\n",
    "\n",
    "print(f\"Kolmogorov-Smirnov-statistic: {k_s_statistic}, P-value: {p_value}\")\n",
    "\n",
    "# Interpretation\n",
    "if p_value < 0.05:\n",
    "    print(\"The distributions are significantly different (p < 0.05).\")\n",
    "else:\n",
    "    print(\"The distributions are not significantly different (p >= 0.05).\")\n"
   ]
  },
  {
   "cell_type": "code",
   "execution_count": 17,
   "metadata": {},
   "outputs": [
    {
     "name": "stdout",
     "output_type": "stream",
     "text": [
      "Kolmogorov-Smirnov-statistic: 0.14705882352941177, P-value: 0.863226759485624\n",
      "The distributions are not significantly different (p >= 0.05).\n"
     ]
    }
   ],
   "source": [
    "# Comparison of the distributions of the ratio between the own and the opponent points in the first quarter\n",
    "\n",
    "tigers_points_ratio = tigers_data[\"tigers_points_1st_quarter\"] / tigers_data[\"opponent_points_1st_quarter\"]\n",
    "heidelberg_points_ratio = heidelberg_data[\"heidelberg_points_1st_quarter\"] / heidelberg_data[\"opponent_points_1st_quarter\"]\n",
    "\n",
    "k_s_statistic, p_value = ks_2samp(tigers_points_ratio, heidelberg_points_ratio)\n",
    "\n",
    "print(f\"Kolmogorov-Smirnov-statistic: {k_s_statistic}, P-value: {p_value}\")\n",
    "\n",
    "# Interpretation\n",
    "if p_value < 0.05:\n",
    "    print(\"The distributions are significantly different (p < 0.05).\")\n",
    "else:\n",
    "    print(\"The distributions are not significantly different (p >= 0.05).\")\n"
   ]
  },
  {
   "cell_type": "code",
   "execution_count": 34,
   "metadata": {},
   "outputs": [
    {
     "name": "stdout",
     "output_type": "stream",
     "text": [
      "Kolmogorov-Smirnov-statistic: 0.11764705882352941, P-value: 0.9761919111193307\n",
      "The distributions are not significantly different (p >= 0.05).\n"
     ]
    }
   ],
   "source": [
    "# Comparison of the distributions of the ratio between the own and the opponent points in the second quarter\n",
    "\n",
    "tigers_points_ratio = tigers_data[\"tigers_points_2nd_quarter\"] / tigers_data[\"opponent_points_2nd_quarter\"]\n",
    "heidelberg_points_ratio = heidelberg_data[\"heidelberg_points_2nd_quarter\"] / heidelberg_data[\"opponent_points_2nd_quarter\"]\n",
    "\n",
    "k_s_statistic, p_value = ks_2samp(tigers_points_ratio, heidelberg_points_ratio)\n",
    "\n",
    "print(f\"Kolmogorov-Smirnov-statistic: {k_s_statistic}, P-value: {p_value}\")\n",
    "\n",
    "# Interpretation\n",
    "if p_value < 0.05:\n",
    "    print(\"The distributions are significantly different (p < 0.05).\")\n",
    "else:\n",
    "    print(\"The distributions are not significantly different (p >= 0.05).\")\n"
   ]
  },
  {
   "cell_type": "code",
   "execution_count": 19,
   "metadata": {},
   "outputs": [
    {
     "name": "stdout",
     "output_type": "stream",
     "text": [
      "Kolmogorov-Smirnov-statistic: 0.23529411764705882, P-value: 0.3067583443758178\n",
      "The distributions are not significantly different (p >= 0.05).\n"
     ]
    }
   ],
   "source": [
    "# Comparison of the distributions of the ratio between the own and the opponent points in the third quarter\n",
    "\n",
    "tigers_points_ratio = tigers_data[\"tigers_points_3rd_quarter\"] / tigers_data[\"opponent_points_3rd_quarter\"]\n",
    "heidelberg_points_ratio = heidelberg_data[\"heidelberg_points_3rd_quarter\"] / heidelberg_data[\"opponent_points_3rd_quarter\"]\n",
    "\n",
    "k_s_statistic, p_value = ks_2samp(tigers_points_ratio, heidelberg_points_ratio)\n",
    "\n",
    "print(f\"Kolmogorov-Smirnov-statistic: {k_s_statistic}, P-value: {p_value}\")\n",
    "\n",
    "# Interpretation\n",
    "if p_value < 0.05:\n",
    "    print(\"The distributions are significantly different (p < 0.05).\")\n",
    "else:\n",
    "    print(\"The distributions are not significantly different (p >= 0.05).\")\n"
   ]
  },
  {
   "cell_type": "code",
   "execution_count": 20,
   "metadata": {},
   "outputs": [
    {
     "name": "stdout",
     "output_type": "stream",
     "text": [
      "Kolmogorov-Smirnov-statistic: 0.20588235294117646, P-value: 0.4728024347599935\n",
      "The distributions are not significantly different (p >= 0.05).\n"
     ]
    }
   ],
   "source": [
    "# Comparison of the distributions of the ratio between the own and the opponent points in the forth quarter\n",
    "\n",
    "tigers_points_ratio = tigers_data[\"tigers_points_4th_quarter\"] / tigers_data[\"opponent_points_4th_quarter\"]\n",
    "heidelberg_points_ratio = heidelberg_data[\"heidelberg_points_4th_quarter\"] / heidelberg_data[\"opponent_points_4th_quarter\"]\n",
    "\n",
    "k_s_statistic, p_value = ks_2samp(tigers_points_ratio, heidelberg_points_ratio)\n",
    "\n",
    "print(f\"Kolmogorov-Smirnov-statistic: {k_s_statistic}, P-value: {p_value}\")\n",
    "\n",
    "# Interpretation\n",
    "if p_value < 0.05:\n",
    "    print(\"The distributions are significantly different (p < 0.05).\")\n",
    "else:\n",
    "    print(\"The distributions are not significantly different (p >= 0.05).\")\n"
   ]
  },
  {
   "cell_type": "code",
   "execution_count": 21,
   "metadata": {},
   "outputs": [
    {
     "name": "stdout",
     "output_type": "stream",
     "text": [
      "Kolmogorov-Smirnov-statistic: 0.38235294117647056, P-value: 0.013193126427130792\n",
      "The distributions are significantly different (p < 0.05).\n"
     ]
    }
   ],
   "source": [
    "# Comparison of the distributions of the field_goals_attempted\n",
    "\n",
    "tigers_points = tigers_data[\"field_goals_attempted\"]\n",
    "heidelberg_points = heidelberg_data[\"field_goals_attempted\"]\n",
    "\n",
    "k_s_statistic, p_value = ks_2samp(tigers_points, heidelberg_points)\n",
    "\n",
    "print(f\"Kolmogorov-Smirnov-statistic: {k_s_statistic}, P-value: {p_value}\")\n",
    "\n",
    "# Interpretation\n",
    "if p_value < 0.05:\n",
    "    print(\"The distributions are significantly different (p < 0.05).\")\n",
    "else:\n",
    "    print(\"The distributions are not significantly different (p >= 0.05).\")\n"
   ]
  },
  {
   "cell_type": "code",
   "execution_count": 22,
   "metadata": {},
   "outputs": [
    {
     "name": "stdout",
     "output_type": "stream",
     "text": [
      "Kolmogorov-Smirnov-statistic: 0.14705882352941177, P-value: 0.863226759485624\n",
      "The distributions are not significantly different (p >= 0.05).\n"
     ]
    }
   ],
   "source": [
    "# Comparison of the distributions of the field_goals_made\n",
    "\n",
    "tigers_points = tigers_data[\"field_goals_made\"]\n",
    "heidelberg_points = heidelberg_data[\"field_goals_made\"]\n",
    "\n",
    "k_s_statistic, p_value = ks_2samp(tigers_points, heidelberg_points)\n",
    "\n",
    "print(f\"Kolmogorov-Smirnov-statistic: {k_s_statistic}, P-value: {p_value}\")\n",
    "\n",
    "# Interpretation\n",
    "if p_value < 0.05:\n",
    "    print(\"The distributions are significantly different (p < 0.05).\")\n",
    "else:\n",
    "    print(\"The distributions are not significantly different (p >= 0.05).\")\n"
   ]
  },
  {
   "cell_type": "code",
   "execution_count": 23,
   "metadata": {},
   "outputs": [
    {
     "name": "stdout",
     "output_type": "stream",
     "text": [
      "Kolmogorov-Smirnov-statistic: 0.20588235294117646, P-value: 0.4728024347599935\n",
      "The distributions are not significantly different (p >= 0.05).\n"
     ]
    }
   ],
   "source": [
    "# Comparison of the distributions of the 2_pointer_percentage\n",
    "\n",
    "tigers_points = tigers_data[\"2_pointer_percentage\"]\n",
    "heidelberg_points = heidelberg_data[\"2_pointer_percentage\"]\n",
    "\n",
    "k_s_statistic, p_value = ks_2samp(tigers_points, heidelberg_points)\n",
    "\n",
    "print(f\"Kolmogorov-Smirnov-statistic: {k_s_statistic}, P-value: {p_value}\")\n",
    "\n",
    "# Interpretation\n",
    "if p_value < 0.05:\n",
    "    print(\"The distributions are significantly different (p < 0.05).\")\n",
    "else:\n",
    "    print(\"The distributions are not significantly different (p >= 0.05).\")\n"
   ]
  },
  {
   "cell_type": "code",
   "execution_count": 24,
   "metadata": {},
   "outputs": [
    {
     "name": "stdout",
     "output_type": "stream",
     "text": [
      "Kolmogorov-Smirnov-statistic: 0.20588235294117646, P-value: 0.4728024347599935\n",
      "The distributions are not significantly different (p >= 0.05).\n"
     ]
    }
   ],
   "source": [
    "# Comparison of the distributions of the 3_pointer_percentage\n",
    "\n",
    "tigers_points = tigers_data[\"3_pointer_percentage\"]\n",
    "heidelberg_points = heidelberg_data[\"3_pointer_percentage\"]\n",
    "\n",
    "k_s_statistic, p_value = ks_2samp(tigers_points, heidelberg_points)\n",
    "\n",
    "print(f\"Kolmogorov-Smirnov-statistic: {k_s_statistic}, P-value: {p_value}\")\n",
    "\n",
    "# Interpretation\n",
    "if p_value < 0.05:\n",
    "    print(\"The distributions are significantly different (p < 0.05).\")\n",
    "else:\n",
    "    print(\"The distributions are not significantly different (p >= 0.05).\")\n"
   ]
  },
  {
   "cell_type": "code",
   "execution_count": 25,
   "metadata": {},
   "outputs": [
    {
     "name": "stdout",
     "output_type": "stream",
     "text": [
      "Kolmogorov-Smirnov-statistic: 0.17647058823529413, P-value: 0.6726844299259279\n",
      "The distributions are not significantly different (p >= 0.05).\n"
     ]
    }
   ],
   "source": [
    "# Comparison of the distributions of the free_throw_percentage\n",
    "\n",
    "tigers_points = tigers_data[\"free_throw_percentage\"]\n",
    "heidelberg_points = heidelberg_data[\"free_throw_percentage\"]\n",
    "\n",
    "k_s_statistic, p_value = ks_2samp(tigers_points, heidelberg_points)\n",
    "\n",
    "print(f\"Kolmogorov-Smirnov-statistic: {k_s_statistic}, P-value: {p_value}\")\n",
    "\n",
    "# Interpretation\n",
    "if p_value < 0.05:\n",
    "    print(\"The distributions are significantly different (p < 0.05).\")\n",
    "else:\n",
    "    print(\"The distributions are not significantly different (p >= 0.05).\")\n"
   ]
  },
  {
   "cell_type": "code",
   "execution_count": 33,
   "metadata": {},
   "outputs": [
    {
     "data": {
      "image/png": "[encoded data removed]",
      "text/plain": [
       "<Figure size 1200x1800 with 3 Axes>"
      ]
     },
     "metadata": {},
     "output_type": "display_data"
    }
   ],
   "source": [
    "# Inspect the points of the different quarters between the teams\n",
    "\n",
    "tigers_points_first = tigers_data[\"tigers_points_1st_quarter\"]\n",
    "tigers_points_second = tigers_data[\"tigers_points_2nd_quarter\"]\n",
    "tigers_points_third = tigers_data[\"tigers_points_3rd_quarter\"]\n",
    "tigers_points_forth = tigers_data[\"tigers_points_4th_quarter\"]\n",
    "\n",
    "tigers_opponent_points_first = tigers_data[\"opponent_points_1st_quarter\"]\n",
    "tigers_opponent_points_second = tigers_data[\"opponent_points_2nd_quarter\"]\n",
    "tigers_opponent_points_third = tigers_data[\"opponent_points_3rd_quarter\"]\n",
    "tigers_opponent_points_forth = tigers_data[\"opponent_points_4th_quarter\"]\n",
    "\n",
    "heidelberg_points_first = heidelberg_data[\"heidelberg_points_1st_quarter\"]\n",
    "heidelberg_points_second = heidelberg_data[\"heidelberg_points_2nd_quarter\"]\n",
    "heidelberg_points_third = heidelberg_data[\"heidelberg_points_3rd_quarter\"]\n",
    "heidelberg_points_forth = heidelberg_data[\"heidelberg_points_4th_quarter\"]\n",
    "\n",
    "heidelberg_opponent_points_first = heidelberg_data[\"opponent_points_1st_quarter\"]\n",
    "heidelberg_opponent_points_second = heidelberg_data[\"opponent_points_2nd_quarter\"]\n",
    "heidelberg_opponent_points_third = heidelberg_data[\"opponent_points_3rd_quarter\"]\n",
    "heidelberg_opponent_points_forth = heidelberg_data[\"opponent_points_4th_quarter\"]\n",
    "    \n",
    "quarters = [\"1st Quarter\", \"2nd Quarter\", \"3rd Quarter\", \"4th Quarter\"]\n",
    "\n",
    "tigers_means = [\n",
    "    tigers_points_first.mean(),\n",
    "    tigers_points_second.mean(),\n",
    "    tigers_points_third.mean(),\n",
    "    tigers_points_forth.mean(),\n",
    "]\n",
    "tigers_std = [\n",
    "    tigers_points_first.std(),\n",
    "    tigers_points_second.std(),\n",
    "    tigers_points_third.std(),\n",
    "    tigers_points_forth.std(),\n",
    "]\n",
    "tigers_opponent_means = [\n",
    "    tigers_opponent_points_first.mean(),\n",
    "    tigers_opponent_points_second.mean(),\n",
    "    tigers_opponent_points_third.mean(),\n",
    "    tigers_opponent_points_forth.mean(),\n",
    "]\n",
    "tigers_opponent_std = [\n",
    "    tigers_opponent_points_first.std(),\n",
    "    tigers_opponent_points_second.std(),\n",
    "    tigers_opponent_points_third.std(),\n",
    "    tigers_opponent_points_forth.std(),\n",
    "]\n",
    "heidelberg_means = [\n",
    "    heidelberg_points_first.mean(),\n",
    "    heidelberg_points_second.mean(),\n",
    "    heidelberg_points_third.mean(),\n",
    "    heidelberg_points_forth.mean(),\n",
    "]\n",
    "heidelberg_std = [\n",
    "    heidelberg_points_first.std(),\n",
    "    heidelberg_points_second.std(),\n",
    "    heidelberg_points_third.std(),\n",
    "    heidelberg_points_forth.std(),\n",
    "]\n",
    "heidelberg_opponent_means = [\n",
    "    heidelberg_opponent_points_first.mean(),\n",
    "    heidelberg_opponent_points_second.mean(),\n",
    "    heidelberg_opponent_points_third.mean(),\n",
    "    heidelberg_opponent_points_forth.mean(),\n",
    "]\n",
    "heidelberg_opponent_std = [\n",
    "    heidelberg_opponent_points_first.std(),\n",
    "    heidelberg_opponent_points_second.std(),\n",
    "    heidelberg_opponent_points_third.std(),\n",
    "    heidelberg_opponent_points_forth.std(),\n",
    "]\n",
    "\n",
    "# Calculate differences\n",
    "tigers_differences_means = [t - o for t, o in zip(tigers_means, tigers_opponent_means)]\n",
    "tigers_differences_std = [\n",
    "    np.sqrt(t**2 + o**2) for t, o in zip(tigers_std, tigers_opponent_std)\n",
    "]\n",
    "\n",
    "heidelberg_differences_means = [\n",
    "    h - o for h, o in zip(heidelberg_means, heidelberg_opponent_means)\n",
    "]\n",
    "heidelberg_differences_std = [\n",
    "    np.sqrt(h**2 + o**2) for h, o in zip(heidelberg_std, heidelberg_opponent_std)\n",
    "]\n",
    "\n",
    "# Plotting\n",
    "x = np.arange(len(quarters))\n",
    "bar_width = 0.35\n",
    "fig, axes = plt.subplots(3, 1, figsize=(12, 18))\n",
    "\n",
    "axes[0].bar(\n",
    "    x - bar_width / 2,\n",
    "    tigers_means,\n",
    "    bar_width,\n",
    "    yerr=tigers_std,\n",
    "    label=\"Tübingen Points\",\n",
    "    capsize=5,\n",
    "    color=\"darkblue\",\n",
    ")\n",
    "axes[0].bar(\n",
    "    x + bar_width / 2,\n",
    "    heidelberg_means,\n",
    "    bar_width,\n",
    "    yerr=heidelberg_std,\n",
    "    label=\"Heidelberg Points\",\n",
    "    capsize=5,\n",
    "    color=\"darkorange\",\n",
    ")\n",
    "axes[0].set_title(\"Mean Points Per Quarter\", fontsize=14)\n",
    "axes[0].set_ylabel(\"Mean Points\", fontsize=12)\n",
    "axes[0].set_xticks(x)\n",
    "axes[0].set_xticklabels(quarters)\n",
    "axes[0].legend()\n",
    "axes[0].grid(axis=\"y\", linestyle=\"--\", alpha=0.7)\n",
    "\n",
    "axes[1].bar(\n",
    "    x - bar_width / 2,\n",
    "    tigers_opponent_means,\n",
    "    bar_width,\n",
    "    yerr=tigers_opponent_std,\n",
    "    label=\"Tübingen Opponents\",\n",
    "    capsize=5,\n",
    "    color=\"darkblue\",\n",
    ")\n",
    "axes[1].bar(\n",
    "    x + bar_width / 2,\n",
    "    heidelberg_opponent_means,\n",
    "    bar_width,\n",
    "    yerr=heidelberg_opponent_std,\n",
    "    label=\"Heidelberg Opponents\",\n",
    "    capsize=5,\n",
    "    color=\"darkorange\",\n",
    ")\n",
    "axes[1].set_title(\"Mean Opponent Points Per Quarter\", fontsize=14)\n",
    "axes[1].set_ylabel(\"Mean Opponent Points\", fontsize=12)\n",
    "axes[1].set_xticks(x)\n",
    "axes[1].set_xticklabels(quarters)\n",
    "axes[1].legend()\n",
    "axes[1].grid(axis=\"y\", linestyle=\"--\", alpha=0.7)\n",
    "\n",
    "axes[2].bar(\n",
    "    x - bar_width / 2,\n",
    "    tigers_differences_means,\n",
    "    bar_width,\n",
    "    yerr=tigers_differences_std,\n",
    "    label=\"Tübingen Differences\",\n",
    "    capsize=5,\n",
    "    color=\"darkblue\",\n",
    ")\n",
    "axes[2].bar(\n",
    "    x + bar_width / 2,\n",
    "    heidelberg_differences_means,\n",
    "    bar_width,\n",
    "    yerr=heidelberg_differences_std,\n",
    "    label=\"Heidelberg Differences\",\n",
    "    capsize=5,\n",
    "    color=\"darkorange\",\n",
    ")\n",
    "axes[2].set_title(\"Mean Point Differences Per Quarter\", fontsize=14)\n",
    "axes[2].set_ylabel(\"Mean Point Differences\", fontsize=12)\n",
    "axes[2].set_xticks(x)\n",
    "axes[2].set_xticklabels(quarters)\n",
    "axes[2].legend()\n",
    "axes[2].grid(axis=\"y\", linestyle=\"--\", alpha=0.7)\n",
    "\n",
    "plt.tight_layout()\n",
    "plt.show()\n"
   ]
  },
  {
   "cell_type": "code",
   "execution_count": 35,
   "metadata": {},
   "outputs": [
    {
     "name": "stdout",
     "output_type": "stream",
     "text": [
      "Kolmogorov-Smirnov-statistic: 0.47058823529411764, P-value: 0.0008952478999561411\n",
      "The distributions are significantly different (p < 0.05).\n"
     ]
    }
   ],
   "source": [
    "# Comparison of the distributions of the total_amount_fans\n",
    "\n",
    "tigers_game_statistics = tigers_data[\"total_amount_fans\"]\n",
    "heidelberg_game_statistics = heidelberg_data[\"total_amount_fans\"]\n",
    "\n",
    "k_s_statistic, p_value = ks_2samp(tigers_game_statistics, heidelberg_game_statistics)\n",
    "\n",
    "print(f\"Kolmogorov-Smirnov-statistic: {k_s_statistic}, P-value: {p_value}\")\n",
    "\n",
    "# Interpretation\n",
    "if p_value < 0.05:\n",
    "    print(\"The distributions are significantly different (p < 0.05).\")\n",
    "else:\n",
    "    print(\"The distributions are not significantly different (p >= 0.05).\")\n"
   ]
  },
  {
   "cell_type": "code",
   "execution_count": 36,
   "metadata": {},
   "outputs": [
    {
     "name": "stdout",
     "output_type": "stream",
     "text": [
      "Kolmogorov-Smirnov-statistic: 0.08823529411764706, P-value: 0.9996092466549565\n",
      "The distributions are not significantly different (p >= 0.05).\n"
     ]
    }
   ],
   "source": [
    "# Comparison of the distributions of the arena_occupancy\n",
    "\n",
    "tigers_game_statistics = tigers_data[\"arena_occupancy\"]\n",
    "heidelberg_game_statistics = heidelberg_data[\"arena_occupancy\"]\n",
    "\n",
    "k_s_statistic, p_value = ks_2samp(tigers_game_statistics, heidelberg_game_statistics)\n",
    "\n",
    "print(f\"Kolmogorov-Smirnov-statistic: {k_s_statistic}, P-value: {p_value}\")\n",
    "\n",
    "# Interpretation\n",
    "if p_value < 0.05:\n",
    "    print(\"The distributions are significantly different (p < 0.05).\")\n",
    "else:\n",
    "    print(\"The distributions are not significantly different (p >= 0.05).\")\n"
   ]
  },
  {
   "cell_type": "code",
   "execution_count": 37,
   "metadata": {},
   "outputs": [
    {
     "name": "stdout",
     "output_type": "stream",
     "text": [
      "Kolmogorov-Smirnov-statistic: 0.4117647058823529, P-value: 0.0057719930314983296\n",
      "The distributions are significantly different (p < 0.05).\n"
     ]
    }
   ],
   "source": [
    "# Comparison of the distributions of the rebounds\n",
    "\n",
    "tigers_game_statistics = tigers_data[\"rebounds\"]\n",
    "heidelberg_game_statistics = heidelberg_data[\"rebounds\"]\n",
    "\n",
    "k_s_statistic, p_value = ks_2samp(tigers_game_statistics, heidelberg_game_statistics)\n",
    "\n",
    "print(f\"Kolmogorov-Smirnov-statistic: {k_s_statistic}, P-value: {p_value}\")\n",
    "\n",
    "# Interpretation\n",
    "if p_value < 0.05:\n",
    "    print(\"The distributions are significantly different (p < 0.05).\")\n",
    "else:\n",
    "    print(\"The distributions are not significantly different (p >= 0.05).\")\n"
   ]
  },
  {
   "cell_type": "code",
   "execution_count": 38,
   "metadata": {},
   "outputs": [
    {
     "name": "stdout",
     "output_type": "stream",
     "text": [
      "Kolmogorov-Smirnov-statistic: 0.20588235294117646, P-value: 0.4728024347599935\n",
      "The distributions are not significantly different (p >= 0.05).\n"
     ]
    }
   ],
   "source": [
    "# Comparison of the distributions of the assists\n",
    "\n",
    "tigers_game_statistics = tigers_data[\"assists\"]\n",
    "heidelberg_game_statistics = heidelberg_data[\"assists\"]\n",
    "\n",
    "k_s_statistic, p_value = ks_2samp(tigers_game_statistics, heidelberg_game_statistics)\n",
    "\n",
    "print(f\"Kolmogorov-Smirnov-statistic: {k_s_statistic}, P-value: {p_value}\")\n",
    "\n",
    "# Interpretation\n",
    "if p_value < 0.05:\n",
    "    print(\"The distributions are significantly different (p < 0.05).\")\n",
    "else:\n",
    "    print(\"The distributions are not significantly different (p >= 0.05).\")\n"
   ]
  },
  {
   "cell_type": "code",
   "execution_count": 39,
   "metadata": {},
   "outputs": [
    {
     "name": "stdout",
     "output_type": "stream",
     "text": [
      "Kolmogorov-Smirnov-statistic: 0.17647058823529413, P-value: 0.6726844299259279\n",
      "The distributions are not significantly different (p >= 0.05).\n"
     ]
    }
   ],
   "source": [
    "# Comparison of the distributions of the turnovers\n",
    "\n",
    "tigers_game_statistics = tigers_data[\"turnovers\"]\n",
    "heidelberg_game_statistics = heidelberg_data[\"turnovers\"]\n",
    "\n",
    "k_s_statistic, p_value = ks_2samp(tigers_game_statistics, heidelberg_game_statistics)\n",
    "\n",
    "print(f\"Kolmogorov-Smirnov-statistic: {k_s_statistic}, P-value: {p_value}\")\n",
    "\n",
    "# Interpretation\n",
    "if p_value < 0.05:\n",
    "    print(\"The distributions are significantly different (p < 0.05).\")\n",
    "else:\n",
    "    print(\"The distributions are not significantly different (p >= 0.05).\")\n"
   ]
  },
  {
   "cell_type": "code",
   "execution_count": 40,
   "metadata": {},
   "outputs": [
    {
     "name": "stdout",
     "output_type": "stream",
     "text": [
      "Kolmogorov-Smirnov-statistic: 0.14705882352941177, P-value: 0.863226759485624\n",
      "The distributions are not significantly different (p >= 0.05).\n"
     ]
    }
   ],
   "source": [
    "# Comparison of the distributions of the steals\n",
    "\n",
    "tigers_game_statistics = tigers_data[\"steals\"]\n",
    "heidelberg_game_statistics = heidelberg_data[\"steals\"]\n",
    "\n",
    "k_s_statistic, p_value = ks_2samp(tigers_game_statistics, heidelberg_game_statistics)\n",
    "\n",
    "print(f\"Kolmogorov-Smirnov-statistic: {k_s_statistic}, P-value: {p_value}\")\n",
    "\n",
    "# Interpretation\n",
    "if p_value < 0.05:\n",
    "    print(\"The distributions are significantly different (p < 0.05).\")\n",
    "else:\n",
    "    print(\"The distributions are not significantly different (p >= 0.05).\")\n"
   ]
  },
  {
   "cell_type": "code",
   "execution_count": 41,
   "metadata": {},
   "outputs": [
    {
     "name": "stdout",
     "output_type": "stream",
     "text": [
      "Kolmogorov-Smirnov-statistic: 0.38235294117647056, P-value: 0.013193126427130792\n",
      "The distributions are significantly different (p < 0.05).\n"
     ]
    }
   ],
   "source": [
    "# Comparison of the distributions of the fouls\n",
    "\n",
    "tigers_game_statistics = tigers_data[\"fouls\"]\n",
    "heidelberg_game_statistics = heidelberg_data[\"fouls\"]\n",
    "\n",
    "k_s_statistic, p_value = ks_2samp(tigers_game_statistics, heidelberg_game_statistics)\n",
    "\n",
    "print(f\"Kolmogorov-Smirnov-statistic: {k_s_statistic}, P-value: {p_value}\")\n",
    "\n",
    "# Interpretation\n",
    "if p_value < 0.05:\n",
    "    print(\"The distributions are significantly different (p < 0.05).\")\n",
    "else:\n",
    "    print(\"The distributions are not significantly different (p >= 0.05).\")\n"
   ]
  },
  {
   "cell_type": "code",
   "execution_count": 43,
   "metadata": {},
   "outputs": [
    {
     "name": "stdout",
     "output_type": "stream",
     "text": [
      "Kolmogorov-Smirnov-statistic: 0.11764705882352941, P-value: 0.9761919111193307\n",
      "The distributions are not significantly different (p >= 0.05).\n"
     ]
    }
   ],
   "source": [
    "# Comparison of the distributions of the rest_days\n",
    "\n",
    "tigers_game_statistics = tigers_data[\"rest_days\"]\n",
    "heidelberg_game_statistics = heidelberg_data[\"rest_days\"]\n",
    "\n",
    "k_s_statistic, p_value = ks_2samp(tigers_game_statistics, heidelberg_game_statistics)\n",
    "\n",
    "print(f\"Kolmogorov-Smirnov-statistic: {k_s_statistic}, P-value: {p_value}\")\n",
    "\n",
    "# Interpretation\n",
    "if p_value < 0.05:\n",
    "    print(\"The distributions are significantly different (p < 0.05).\")\n",
    "else:\n",
    "    print(\"The distributions are not significantly different (p >= 0.05).\")\n"
   ]
  }
 ],
 "metadata": {
  "kernelspec": {
   "display_name": "base",
   "language": "python",
   "name": "python3"
  },
  "language_info": {
   "codemirror_mode": {
    "name": "ipython",
    "version": 3
   },
   "file_extension": ".py",
   "mimetype": "text/x-python",
   "name": "python",
   "nbconvert_exporter": "python",
   "pygments_lexer": "ipython3",
   "version": "3.12.4"
  }
 },
 "nbformat": 4,
 "nbformat_minor": 2
}
